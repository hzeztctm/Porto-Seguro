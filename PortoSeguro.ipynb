{
 "cells": [
  {
   "cell_type": "markdown",
   "metadata": {},
   "source": [
    "# Porto Seguro's Safe Driver Prediction | Kaggle"
   ]
  },
  {
   "cell_type": "code",
   "execution_count": 1,
   "metadata": {},
   "outputs": [
    {
     "name": "stdout",
     "output_type": "stream",
     "text": [
      "Data loaded\n"
     ]
    }
   ],
   "source": [
    "# Import libraries necessary for this project\n",
    "import numpy as np\n",
    "import matplotlib.pyplot as plt\n",
    "import pandas as pd\n",
    "from IPython.display import display # Allows the use of display() for DataFrames\n",
    "\n",
    "# Pretty display for notebooks\n",
    "%matplotlib inline\n",
    "\n",
    "# Load the Census dataset\n",
    "data_raw = pd.read_csv(\"data/train.csv\")\n",
    "\n",
    "print \"Data loaded\""
   ]
  },
  {
   "cell_type": "code",
   "execution_count": 2,
   "metadata": {},
   "outputs": [
    {
     "name": "stdout",
     "output_type": "stream",
     "text": [
      "Total number of records: 595212\n",
      "Individuals not claiming an accident: 573518\n",
      "Individuals claiming an accident: 21694\n",
      "Percentage of individuals not claiming an accident: 96.36%\n"
     ]
    }
   ],
   "source": [
    "# TODO: Total number of records\n",
    "n_records = data_raw['id'].count()\n",
    "\n",
    "# Number of records where accident did not happen\n",
    "n_accident = data_raw[data_raw['target'] == 0]['target'].count()\n",
    "\n",
    "# Number of records where accident happened\n",
    "n_no_accident = data_raw[data_raw['target'] == 1]['target'].count()\n",
    "\n",
    "# TODO: Percentage of individuals who had an accident\n",
    "no_accident_percent = np.true_divide(n_accident, n_records) * 100\n",
    "\n",
    "# Print the results\n",
    "print \"Total number of records: {}\".format(n_records)\n",
    "print \"Individuals not claiming an accident: {}\".format(n_accident)\n",
    "print \"Individuals claiming an accident: {}\".format(n_no_accident)\n",
    "print \"Percentage of individuals not claiming an accident: {:.2f}%\".format(no_accident_percent)"
   ]
  },
  {
   "cell_type": "code",
   "execution_count": 3,
   "metadata": {},
   "outputs": [
    {
     "name": "stdout",
     "output_type": "stream",
     "text": [
      "id 0.0\n",
      "target 0.0\n",
      "ps_ind_01 0.0\n",
      "ps_ind_02_cat 0.000362895909357\n",
      "ps_ind_03 0.0\n",
      "ps_ind_04_cat 0.000139446113318\n",
      "ps_ind_05_cat 0.00975954785858\n",
      "ps_ind_06_bin 0.0\n",
      "ps_ind_07_bin 0.0\n",
      "ps_ind_08_bin 0.0\n",
      "ps_ind_09_bin 0.0\n",
      "ps_ind_10_bin 0.0\n",
      "ps_ind_11_bin 0.0\n",
      "ps_ind_12_bin 0.0\n",
      "ps_ind_13_bin 0.0\n",
      "ps_ind_14 0.0\n",
      "ps_ind_15 0.0\n",
      "ps_ind_16_bin 0.0\n",
      "ps_ind_17_bin 0.0\n",
      "ps_ind_18_bin 0.0\n",
      "ps_reg_01 0.0\n",
      "ps_reg_02 0.0\n",
      "ps_reg_03 0.181064897885\n",
      "ps_car_01_cat 0.000179767881024\n",
      "ps_car_02_cat 8.40036827215e-06\n",
      "ps_car_03_cat 0.690898368984\n",
      "ps_car_04_cat 0.0\n",
      "ps_car_05_cat 0.447825312662\n",
      "ps_car_06_cat 0.0\n",
      "ps_car_07_cat 0.0193023662157\n",
      "ps_car_08_cat 0.0\n",
      "ps_car_09_cat 0.00095596190937\n",
      "ps_car_10_cat 0.0\n",
      "ps_car_11_cat 0.0\n",
      "ps_car_11 8.40036827215e-06\n",
      "ps_car_12 1.68007365443e-06\n",
      "ps_car_13 0.0\n",
      "ps_car_14 0.0716047391518\n",
      "ps_car_15 0.0\n",
      "ps_calc_01 0.0\n",
      "ps_calc_02 0.0\n",
      "ps_calc_03 0.0\n",
      "ps_calc_04 0.0\n",
      "ps_calc_05 0.0\n",
      "ps_calc_06 0.0\n",
      "ps_calc_07 0.0\n",
      "ps_calc_08 0.0\n",
      "ps_calc_09 0.0\n",
      "ps_calc_10 0.0\n",
      "ps_calc_11 0.0\n",
      "ps_calc_12 0.0\n",
      "ps_calc_13 0.0\n",
      "ps_calc_14 0.0\n",
      "ps_calc_15_bin 0.0\n",
      "ps_calc_16_bin 0.0\n",
      "ps_calc_17_bin 0.0\n",
      "ps_calc_18_bin 0.0\n",
      "ps_calc_19_bin 0.0\n",
      "ps_calc_20_bin 0.0\n",
      "56\n"
     ]
    }
   ],
   "source": [
    "# check how many -1 values for each column\n",
    "features_raw = list(data_raw)\n",
    "\n",
    "# ratio of missing data in each column\n",
    "for feature in features_raw:\n",
    "    n_column_missing = len(data_raw[data_raw[feature] == -1])\n",
    "    missing_data_ratio = np.true_divide(n_column_missing, n_records)\n",
    "    print feature, missing_data_ratio \n",
    "\n",
    "# drop features with too many missing data   \n",
    "data_drop_missing = data_raw.drop(['ps_reg_03','ps_car_03_cat','ps_car_05_cat'], axis = 1)\n",
    "\n",
    "print len(list(data_drop_missing))"
   ]
  },
  {
   "cell_type": "code",
   "execution_count": 4,
   "metadata": {},
   "outputs": [
    {
     "name": "stdout",
     "output_type": "stream",
     "text": [
      "['id', 'target', 'ps_ind_01', 'ps_ind_02_cat', 'ps_ind_03', 'ps_ind_04_cat', 'ps_ind_05_cat', 'ps_ind_06_bin', 'ps_ind_07_bin', 'ps_ind_08_bin', 'ps_ind_09_bin', 'ps_ind_10_bin', 'ps_ind_11_bin', 'ps_ind_12_bin', 'ps_ind_13_bin', 'ps_ind_14', 'ps_ind_15', 'ps_ind_16_bin', 'ps_ind_17_bin', 'ps_ind_18_bin', 'ps_reg_01', 'ps_reg_02', 'ps_car_01_cat', 'ps_car_02_cat', 'ps_car_04_cat', 'ps_car_06_cat', 'ps_car_07_cat', 'ps_car_08_cat', 'ps_car_09_cat', 'ps_car_10_cat', 'ps_car_11_cat', 'ps_car_11', 'ps_car_12', 'ps_car_13', 'ps_car_14', 'ps_car_15'] 36\n"
     ]
    }
   ],
   "source": [
    "# remove calculated features\n",
    "features_calc = [f for f in list(data_drop_missing) if ('calc' in f)]\n",
    "#print features_calc\n",
    "\n",
    "# drop calculated features  \n",
    "data_no_calc = data_drop_missing.drop(features_calc, axis = 1)\n",
    "print list(data_no_calc), len(list(data_no_calc))"
   ]
  },
  {
   "cell_type": "markdown",
   "metadata": {},
   "source": [
    "### Correlated Matrix of Continuous Data"
   ]
  },
  {
   "cell_type": "code",
   "execution_count": 5,
   "metadata": {},
   "outputs": [
    {
     "data": {
      "image/png": "[encoded data removed]",
      "text/plain": [
       "<matplotlib.figure.Figure at 0x200f7eb8>"
      ]
     },
     "metadata": {},
     "output_type": "display_data"
    }
   ],
   "source": [
    "features_num = ['ps_reg_01','ps_reg_02','ps_car_12','ps_car_13','ps_car_14','ps_car_15']\n",
    "#correlation matrix for continuous variables\n",
    "correlations = data_no_calc[features_num].corr()\n",
    "# plot correlation matrix\n",
    "from matplotlib import cm\n",
    "fig = plt.figure(figsize = (8,5))\n",
    "ax = fig.add_subplot(111)\n",
    "cax = ax.imshow(correlations, interpolation='nearest', cmap=cm.coolwarm, vmin=-1, vmax=1)\n",
    "fig.colorbar(cax)\n",
    "ticks = np.arange(0,len(features_num),1)\n",
    "ax.set_xticks(ticks)\n",
    "ax.set_yticks(ticks)\n",
    "ax.set_xticklabels(features_num, rotation=90, fontsize=15)\n",
    "ax.set_yticklabels(features_num, fontsize=15)\n",
    "fig.suptitle(\"Correlation Matirx of Continuous Data Features\", \\\n",
    "            fontsize = 16, y = 1.03)\n",
    "plt.show()"
   ]
  },
  {
   "cell_type": "markdown",
   "metadata": {},
   "source": [
    "### Visualize Binary Features"
   ]
  },
  {
   "cell_type": "code",
   "execution_count": 6,
   "metadata": {},
   "outputs": [
    {
     "name": "stdout",
     "output_type": "stream",
     "text": [
      "11\n"
     ]
    },
    {
     "name": "stderr",
     "output_type": "stream",
     "text": [
      "C:\\Users\\mtian\\AppData\\Local\\conda\\conda\\envs\\my_root\\lib\\site-packages\\matplotlib\\figure.py:403: UserWarning: matplotlib is currently using a non-GUI backend, so cannot show the figure\n",
      "  \"matplotlib is currently using a non-GUI backend, \"\n"
     ]
    },
    {
     "data": {
      "image/png": "[encoded data removed]",
      "text/plain": [
       "<matplotlib.figure.Figure at 0x19bcea20>"
      ]
     },
     "metadata": {},
     "output_type": "display_data"
    }
   ],
   "source": [
    "features_bin = [f for f in list(data_no_calc) if ('bin' in f)]\n",
    "print len(list(features_bin))\n",
    "\n",
    "fig = plt.figure(figsize = (20,6))\n",
    "for i, feature in enumerate(features_bin):\n",
    "    ax = fig.add_subplot(1,11,i+1)\n",
    "    pd.crosstab(data_no_calc[feature], data_no_calc['target']).plot(kind='bar', stacked=True, sharey=True, ax=ax)\n",
    "    \n",
    "fig.suptitle(\"Two-way Table of Binary Data Features\", fontsize = 25)\n",
    "fig.show()"
   ]
  },
  {
   "cell_type": "markdown",
   "metadata": {},
   "source": [
    "### Visualize Ordinary Features"
   ]
  },
  {
   "cell_type": "code",
   "execution_count": 26,
   "metadata": {},
   "outputs": [
    {
     "data": {
      "image/png": "[encoded data removed]",
      "text/plain": [
       "<matplotlib.figure.Figure at 0x76aaf630>"
      ]
     },
     "metadata": {},
     "output_type": "display_data"
    }
   ],
   "source": [
    "features_ord = ['ps_ind_01', 'ps_ind_03','ps_ind_14', 'ps_ind_15', 'ps_car_11']\n",
    "\n",
    "fig = plt.figure(figsize = (24,6))\n",
    "for i, feature in enumerate(features_ord):\n",
    "    ax = fig.add_subplot(1,5,i+1)\n",
    "    pd.crosstab(data_no_calc[feature], data_no_calc['target']).plot(kind='bar', stacked=True, ax=ax)\n",
    "    \n",
    "fig.suptitle(\"Two-way Table of Ordinary Data Features\", fontsize = 25)\n",
    "fig.show()"
   ]
  },
  {
   "cell_type": "markdown",
   "metadata": {},
   "source": [
    "### One-Hot Transformation for Categorical Features"
   ]
  },
  {
   "cell_type": "code",
   "execution_count": 27,
   "metadata": {
    "collapsed": true
   },
   "outputs": [],
   "source": [
    "# subroutine courtesy of:\n",
    "# https://github.com/lorenzoridolfi/reproduce_porto_winner_solution/blob/master/prepare_data.py\n",
    "def hot_encoder(df, columns):\n",
    "    one_hot = {c: list(df[c].unique()) for c in columns}\n",
    "    for c in one_hot:\n",
    "        for val in one_hot[c]:\n",
    "            df[c+'_oh_' + str(val)] = (df[c].values == val).astype(np.int)\n",
    "    return df\n",
    "\n",
    "feature_cols = [c for c in data_no_calc.columns if c not in ['id','target']]\n",
    "cat_cols     = [c for c in feature_cols if '_cat' in c]\n",
    "\n",
    "df_all = hot_encoder(data_no_calc, cat_cols)\n",
    "# print df_all.shape"
   ]
  },
  {
   "cell_type": "code",
   "execution_count": 9,
   "metadata": {},
   "outputs": [
    {
     "name": "stderr",
     "output_type": "stream",
     "text": [
      "C:\\ProgramData\\Anaconda2\\lib\\site-packages\\sklearn\\cross_validation.py:41: DeprecationWarning: This module was deprecated in version 0.18 in favor of the model_selection module into which all the refactored classes and functions are moved. Also note that the interface of the new CV iterators are different from that of this module. This module will be removed in 0.20.\n",
      "  \"This module will be removed in 0.20.\", DeprecationWarning)\n"
     ]
    },
    {
     "name": "stdout",
     "output_type": "stream",
     "text": [
      "Training set has 476169 samples.\n",
      "Testing set has 119043 samples.\n"
     ]
    }
   ],
   "source": [
    "# Import train_test_split\n",
    "from sklearn.cross_validation import train_test_split\n",
    "\n",
    "# Split the 'features' and 'income' data into training and testing sets\n",
    "X_train, X_test, y_train, y_test = train_test_split(df_all.drop(['id','target'], axis=1), \n",
    "                                    df_all['target'], test_size = 0.2, random_state = 0)\n",
    "\n",
    "# Show the results of the split\n",
    "print \"Training set has {} samples.\".format(X_train.shape[0])\n",
    "print \"Testing set has {} samples.\".format(X_test.shape[0])"
   ]
  },
  {
   "cell_type": "markdown",
   "metadata": {},
   "source": [
    "### Evaluation of model behavior"
   ]
  },
  {
   "cell_type": "code",
   "execution_count": 1,
   "metadata": {
    "collapsed": true
   },
   "outputs": [],
   "source": [
    "def gini(actual, pred, cmpcol = 0, sortcol = 1):\n",
    "     assert( len(actual) == len(pred) )\n",
    "     all = np.asarray(np.c_[ actual, pred, np.arange(len(actual)) ], dtype=np.float)\n",
    "     all = all[ np.lexsort((all[:,2], -1*all[:,1])) ]\n",
    "     totalLosses = all[:,0].sum()\n",
    "     giniSum = all[:,0].cumsum().sum() / totalLosses\n",
    " \n",
    "     giniSum -= (len(actual) + 1) / 2.\n",
    "     return giniSum / len(actual)\n",
    " \n",
    "def gini_normalized(a, p):\n",
    "    return gini(a, p) / gini(a, a)"
   ]
  },
  {
   "cell_type": "markdown",
   "metadata": {},
   "source": [
    "### Load Data"
   ]
  },
  {
   "cell_type": "code",
   "execution_count": 28,
   "metadata": {},
   "outputs": [
    {
     "name": "stdout",
     "output_type": "stream",
     "text": [
      "data loaded\n",
      "(476169L, 212L) (476169L,)\n"
     ]
    }
   ],
   "source": [
    "## save data\n",
    "#np.save('X_train.npy',X_train)\n",
    "#np.save('y_train.npy',y_train)\n",
    "#np.save('X_test.npy',X_test)\n",
    "#np.save('y_test.npy',y_test)\n",
    "\n",
    "# #load data\n",
    "# X_train = np.load(\"data/X_train.npy\")\n",
    "# y_train = np.load(\"data/y_train.npy\")\n",
    "# X_test = np.load(\"data/X_test.npy\")\n",
    "# y_test = np.load(\"data/y_test.npy\")\n",
    "# print('data loaded')"
   ]
  },
  {
   "cell_type": "markdown",
   "metadata": {},
   "source": [
    "## Benchmark Test"
   ]
  },
  {
   "cell_type": "markdown",
   "metadata": {},
   "source": [
    "### Native Bayes"
   ]
  },
  {
   "cell_type": "code",
   "execution_count": 35,
   "metadata": {},
   "outputs": [
    {
     "name": "stdout",
     "output_type": "stream",
     "text": [
      "gini coef for GaussianNB= 0.185588654869\n"
     ]
    }
   ],
   "source": [
    "#Native Bayes\n",
    "from sklearn.naive_bayes import GaussianNB\n",
    "\n",
    "classifier = GaussianNB()\n",
    "classifier.fit(X_train, y_train)\n",
    "y_pred = classifier.predict_proba(X_test)[:,1]\n",
    "\n",
    "# Gini\n",
    "gini_norm = gini_normalized(y_test, y_pred)\n",
    "print 'gini coef for GaussianNB=', gini_norm"
   ]
  },
  {
   "cell_type": "markdown",
   "metadata": {},
   "source": [
    "## Preliminary Tests\n",
    "### sklearn library"
   ]
  },
  {
   "cell_type": "code",
   "execution_count": 10,
   "metadata": {},
   "outputs": [
    {
     "name": "stdout",
     "output_type": "stream",
     "text": [
      "gini coef for DecisionTree= 0.0201624613666\n"
     ]
    }
   ],
   "source": [
    "from sklearn.tree import DecisionTreeClassifier\n",
    "# Initialize the regressors\n",
    "classifier = DecisionTreeClassifier()\n",
    "classifier.fit(X_train, y_train)\n",
    "y_pred = classifier.predict_proba(X_test)[:,1]\n",
    "# Gini\n",
    "gini_norm = gini_normalized(y_test, y_pred)\n",
    "print 'gini coef for DecisionTree=', gini_norm"
   ]
  },
  {
   "cell_type": "code",
   "execution_count": 11,
   "metadata": {},
   "outputs": [
    {
     "name": "stdout",
     "output_type": "stream",
     "text": [
      "gini coef for K neighbors= 0.0405853503239\n"
     ]
    }
   ],
   "source": [
    "from sklearn.neighbors import KNeighborsClassifier\n",
    "classifier = KNeighborsClassifier()\n",
    "classifier.fit(X_train, y_train)\n",
    "y_pred = classifier.predict_proba(X_test)[:,1]\n",
    "# Gini\n",
    "gini_norm = gini_normalized(y_test, y_pred)\n",
    "print 'gini coef for K neighbors=', gini_norm"
   ]
  },
  {
   "cell_type": "code",
   "execution_count": 41,
   "metadata": {},
   "outputs": [
    {
     "name": "stdout",
     "output_type": "stream",
     "text": [
      "gini coef for LinearSVC= 0.000202830655638\n"
     ]
    }
   ],
   "source": [
    "from sklearn.svm import LinearSVC\n",
    "classifier = LinearSVC()\n",
    "classifier.fit(X_train, y_train)\n",
    "y_pred = classifier.predict(X_test)\n",
    "# Gini\n",
    "gini_norm = gini_normalized(y_test, y_pred)\n",
    "print 'gini coef for LinearSVC=', gini_norm"
   ]
  },
  {
   "cell_type": "code",
   "execution_count": 7,
   "metadata": {},
   "outputs": [
    {
     "name": "stdout",
     "output_type": "stream",
     "text": [
      "gini coef for RandomForest= 0.00185846353035\n"
     ]
    }
   ],
   "source": [
    "from sklearn.ensemble import RandomForestClassifier\n",
    "classifier = RandomForestClassifier()\n",
    "classifier.fit(X_train, y_train)\n",
    "y_pred = classifier.predict_proba(X_test)[:,1]\n",
    "# Gini\n",
    "gini_norm = gini_normalized(y_test, y_pred)\n",
    "print 'gini coef for RandomForest=', gini_norm"
   ]
  },
  {
   "cell_type": "code",
   "execution_count": 8,
   "metadata": {},
   "outputs": [
    {
     "name": "stdout",
     "output_type": "stream",
     "text": [
      "gini coef for ExtraTrees= 0.0738333468672\n"
     ]
    }
   ],
   "source": [
    "from sklearn.ensemble import ExtraTreesRegressor\n",
    "classifier = ExtraTreesRegressor()\n",
    "classifier.fit(X_train, y_train)\n",
    "y_pred = classifier.predict(X_test)\n",
    "# Gini\n",
    "gini_norm = gini_normalized(y_test, y_pred)\n",
    "print 'gini coef for ExtraTrees=', gini_norm"
   ]
  },
  {
   "cell_type": "code",
   "execution_count": 3,
   "metadata": {},
   "outputs": [
    {
     "name": "stdout",
     "output_type": "stream",
     "text": [
      "gini coef for ElasticNet= 0.000202830655638\n"
     ]
    }
   ],
   "source": [
    "from sklearn.linear_model import ElasticNet\n",
    "classifier = ElasticNet()\n",
    "classifier.fit(X_train, y_train)\n",
    "y_pred = classifier.predict(X_test)\n",
    "# Gini\n",
    "gini_norm = gini_normalized(y_test, y_pred)\n",
    "print 'gini coef for ElasticNet=', gini_norm"
   ]
  },
  {
   "cell_type": "markdown",
   "metadata": {},
   "source": [
    "### LightGBM"
   ]
  },
  {
   "cell_type": "code",
   "execution_count": 8,
   "metadata": {},
   "outputs": [
    {
     "name": "stdout",
     "output_type": "stream",
     "text": [
      "Start training...\n",
      "Start predicting...\n",
      "gini coef for Lightgbm= 0.276256921893\n"
     ]
    }
   ],
   "source": [
    "import lightgbm as lgb\n",
    "lgb = lgb.LGBMClassifier()\n",
    "print('Start training...')\n",
    "lgb.fit(X_train, y_train)\n",
    "print('Start predicting...')\n",
    "y_pred = lgb.predict_proba(X_test)[:,1]\n",
    "\n",
    "# Gini\n",
    "gini_norm = gini_normalized(y_test, y_pred)\n",
    "print 'gini coef for Lightgbm=', gini_norm"
   ]
  },
  {
   "cell_type": "markdown",
   "metadata": {},
   "source": [
    "## Stacking"
   ]
  },
  {
   "cell_type": "code",
   "execution_count": 4,
   "metadata": {
    "collapsed": true
   },
   "outputs": [],
   "source": [
    "from sklearn.model_selection import StratifiedKFold\n",
    "import lightgbm as lgb\n",
    "from sklearn.model_selection import GridSearchCV\n",
    "\n",
    "class ensemble(object):\n",
    "    def __init__(self, n_splits, base_models):\n",
    "        self.n_splits = n_splits\n",
    "        self.base_models = base_models\n",
    "        #self.stacker = stacker\n",
    "        \n",
    "    def train_predict(self, X_train, y_train, X_test):\n",
    "    #generate folds    \n",
    "        folds = list(StratifiedKFold(n_splits = self.n_splits, shuffle = True).split(X_train, y_train))\n",
    "    #variables to store the inputs for stacker\n",
    "        S_train = np.zeros((X_train.shape[0], len(self.base_models)))\n",
    "        S_test = np.zeros((X_test.shape[0], len(self.base_models)))\n",
    "    #train base models and generate stacker inputs    \n",
    "        for i, model_ensemble in enumerate(self.base_models):\n",
    "            S_test_i = np.zeros((X_test.shape[0], self.n_splits))\n",
    "            for j, (idx_train, idx_test) in enumerate(folds):\n",
    "                X_train_S = X_train[idx_train]\n",
    "                y_train_S = y_train[idx_train]\n",
    "                X_handout_S = X_train[idx_test]\n",
    "    \n",
    "                print('fitting base model {} for fold {}...'.format(i+1,j+1))\n",
    "                model_ensemble.fit(X_train_S, y_train_S)\n",
    "                y_handout_S = model_ensemble.predict_proba(X_handout_S)[:,1]\n",
    "        \n",
    "                S_train[idx_test, i] = y_handout_S\n",
    "                S_test_i[:, j] = model_ensemble.predict_proba(X_test)[:,1]\n",
    "        \n",
    "            S_test[:, i] = S_test_i.mean(axis=1)\n",
    "        self.S_train = S_train\n",
    "        self.S_test = S_test\n",
    "        print('finish ensemble...')\n",
    "\n",
    "    def GridSearch_Stacker(self, y_train, stacker, stacker_params):\n",
    "        print('fitting stacker using grid search...')\n",
    "        grid_fit = GridSearchCV(stacker, stacker_params)\n",
    "        grid_fit.fit(self.S_train, y_train)\n",
    "        print('start stacker predicting...')            \n",
    "        y_pred = grid_fit.predict_proba(self.S_test)[:,1]\n",
    "        print('finish stacker predicting...')  \n",
    "        return y_pred"
   ]
  },
  {
   "cell_type": "code",
   "execution_count": 17,
   "metadata": {},
   "outputs": [
    {
     "name": "stdout",
     "output_type": "stream",
     "text": [
      "fitting base model 1 for fold 1...\n",
      "fitting base model 1 for fold 2...\n",
      "fitting base model 1 for fold 3...\n",
      "fitting base model 1 for fold 4...\n",
      "fitting base model 1 for fold 5...\n",
      "fitting base model 2 for fold 1...\n",
      "fitting base model 2 for fold 2...\n",
      "fitting base model 2 for fold 3...\n",
      "fitting base model 2 for fold 4...\n",
      "fitting base model 2 for fold 5...\n",
      "fitting base model 3 for fold 1...\n",
      "fitting base model 3 for fold 2...\n",
      "fitting base model 3 for fold 3...\n",
      "fitting base model 3 for fold 4...\n",
      "fitting base model 3 for fold 5...\n",
      "fitting base model 4 for fold 1...\n",
      "fitting base model 4 for fold 2...\n",
      "fitting base model 4 for fold 3...\n",
      "fitting base model 4 for fold 4...\n",
      "fitting base model 4 for fold 5...\n",
      "finish ensemble...\n"
     ]
    }
   ],
   "source": [
    "# LightGBM params\n",
    "lgb_params1 = {\n",
    "    'learning_rate': 0.02,\n",
    "    'n_estimators': 750,\n",
    "    'max_bin': 10,    \n",
    "    'metric': {'l2', 'auc'},\n",
    "    'num_leaves': 50,\n",
    "    'min_data_in_leaf': 1200,\n",
    "    'feature_fraction': 0.8,\n",
    "    'bagging_fraction': 0.8,\n",
    "    'bagging_freq': 1,\n",
    "    'lambda_l1': 1,\n",
    "    'lambda_l2': 1,\n",
    "    'random_state': 99\n",
    "}\n",
    "\n",
    "lgb_params2 = {\n",
    "    'learning_rate': 0.02,\n",
    "    'n_estimators': 1100,\n",
    "    'max_bin': 10,    \n",
    "    'metric': {'l2', 'auc'},\n",
    "    'num_leaves': 50,\n",
    "    'min_data_in_leaf': 1500,\n",
    "    'feature_fraction': 0.8,\n",
    "    'bagging_fraction': 0.8,\n",
    "    'bagging_freq': 1,\n",
    "    'lambda_l1': 1,\n",
    "    'lambda_l2': 1,\n",
    "    'random_state': 99\n",
    "}\n",
    "\n",
    "lgb_params3 = {\n",
    "    'learning_rate': 0.02,\n",
    "    'n_estimators': 800,\n",
    "    'max_bin': 10,    \n",
    "    'metric': {'l2', 'auc'},\n",
    "    'num_leaves': 30,\n",
    "    'min_data_in_leaf': 1500,\n",
    "    'feature_fraction': 0.7,\n",
    "    'bagging_fraction': 0.7,\n",
    "    'bagging_freq': 1,\n",
    "    'lambda_l1': 1,\n",
    "    'lambda_l2': 1,\n",
    "    'random_state': 99\n",
    "}\n",
    "\n",
    "lgb_params4 = {\n",
    "    'learning_rate': 0.02,\n",
    "    'n_estimators': 850,\n",
    "    'max_bin': 10,    \n",
    "    'metric': {'l2', 'auc'},\n",
    "    'num_leaves': 16,\n",
    "    'min_data_in_leaf': 1200,\n",
    "    'feature_fraction': 0.7,\n",
    "    'bagging_fraction': 0.7,\n",
    "    'bagging_freq': 1,\n",
    "    'lambda_l1': 1,\n",
    "    'lambda_l2': 1,\n",
    "    'random_state': 99\n",
    "}\n",
    "\n",
    "# define base models\n",
    "lgb_1 = lgb.LGBMClassifier(**lgb_params1)\n",
    "lgb_2 = lgb.LGBMClassifier(**lgb_params2)\n",
    "lgb_3 = lgb.LGBMClassifier(**lgb_params3)\n",
    "lgb_4 = lgb.LGBMClassifier(**lgb_params4)\n",
    "\n",
    "# GNB = GaussianNB()\n",
    "# DecisionTree = DecisionTreeClassifier()\n",
    "# base_models = (lgb_1, GNB, DecisionTree)\n",
    "\n",
    "# base_models = (lgb_1, lgb_2)\n",
    "# base_models = (lgb_1, lgb_2, lgb_3)\n",
    "base_models = (lgb_1, lgb_2, lgb_3, lgb_4)\n",
    "\n",
    "# call stacking method\n",
    "ensemb = ensemble(n_splits = 5, base_models = base_models)\n",
    "ensemb.train_predict(X_train, y_train, X_test)"
   ]
  },
  {
   "cell_type": "code",
   "execution_count": 18,
   "metadata": {},
   "outputs": [
    {
     "name": "stdout",
     "output_type": "stream",
     "text": [
      "fitting stacker using grid search...\n",
      "start stacker predicting...\n",
      "finish stacker predicting...\n",
      "gini coef for Stacker= 0.284991102438\n"
     ]
    }
   ],
   "source": [
    "from sklearn.linear_model import LogisticRegression\n",
    "\n",
    "stacker = LogisticRegression()\n",
    "stacker_params = {'C': [0.8, 0.9, 1], 'max_iter':[100, 150, 200]}\n",
    "\n",
    "y_pred = ensemb.GridSearch_Stacker(y_train, stacker, stacker_params)\n",
    "\n",
    "# Gini\n",
    "gini_norm = gini_normalized(y_test, y_pred)\n",
    "print 'gini coef for Stacker=', gini_norm"
   ]
  }
 ],
 "metadata": {
  "kernelspec": {
   "display_name": "Python 2",
   "language": "python",
   "name": "python2"
  },
  "language_info": {
   "codemirror_mode": {
    "name": "ipython",
    "version": 2
   },
   "file_extension": ".py",
   "mimetype": "text/x-python",
   "name": "python",
   "nbconvert_exporter": "python",
   "pygments_lexer": "ipython2",
   "version": "2.7.13"
  }
 },
 "nbformat": 4,
 "nbformat_minor": 2
}
